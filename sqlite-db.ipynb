{
 "cells": [
  {
   "cell_type": "markdown",
   "id": "cfc77cbd",
   "metadata": {},
   "source": [
    "# Easy Guide Use SQLite database with Pandas"
   ]
  },
  {
   "cell_type": "code",
   "execution_count": 1,
   "id": "6de927a7",
   "metadata": {},
   "outputs": [],
   "source": [
    "#import libraries\n",
    "import sqlite3 as db\n",
    "import pandas as pd\n",
    "from sqlite3 import Error"
   ]
  },
  {
   "cell_type": "markdown",
   "id": "12bbb76b",
   "metadata": {},
   "source": [
    "# Create a SQL connection to our SQLite database"
   ]
  },
  {
   "cell_type": "code",
   "execution_count": 4,
   "id": "fe9becce",
   "metadata": {},
   "outputs": [],
   "source": [
    "#connect to database or create if doesn't exist\n",
    "conn = db.connect('my_database.db')\n",
    "#create cursor\n",
    "c = conn.cursor()"
   ]
  },
  {
   "cell_type": "markdown",
   "id": "2c7b22b3",
   "metadata": {},
   "source": [
    "# Create table"
   ]
  },
  {
   "cell_type": "code",
   "execution_count": 5,
   "id": "319fe041",
   "metadata": {},
   "outputs": [
    {
     "data": {
      "text/plain": [
       "<sqlite3.Cursor at 0x7fbe600b6e30>"
      ]
     },
     "execution_count": 5,
     "metadata": {},
     "output_type": "execute_result"
    }
   ],
   "source": [
    "#create table called 'employees'\n",
    "c.execute(\"CREATE TABLE employees (empid INTEGER PRIMARY KEY, firstname NVARCHAR(20), lastname NVARCHAR(20))\")"
   ]
  },
  {
   "cell_type": "code",
   "execution_count": 6,
   "id": "cea7bcfb",
   "metadata": {},
   "outputs": [
    {
     "name": "stdout",
     "output_type": "stream",
     "text": [
      "[('employees',)]\n"
     ]
    }
   ],
   "source": [
    "#check that table was successfully created in database\n",
    "c.execute(\"SELECT name FROM sqlite_master WHERE type='table';\")\n",
    "print(c.fetchall())"
   ]
  },
  {
   "cell_type": "markdown",
   "id": "b8af2c81",
   "metadata": {},
   "source": [
    "# Insert data into table\n",
    "\n",
    "## Option 1 - insert a few rows"
   ]
  },
  {
   "cell_type": "code",
   "execution_count": 8,
   "id": "aa973356",
   "metadata": {},
   "outputs": [
    {
     "data": {
      "text/plain": [
       "<sqlite3.Cursor at 0x7fbe600b6e30>"
      ]
     },
     "execution_count": 8,
     "metadata": {},
     "output_type": "execute_result"
    }
   ],
   "source": [
    "c.execute(\"INSERT INTO employees VALUES (12985,'Michael','Scott')\")\n",
    "c.execute(\"INSERT INTO employees VALUES (12986,'Dwight', 'Schrute')\")"
   ]
  },
  {
   "cell_type": "code",
   "execution_count": 9,
   "id": "16c2a43c",
   "metadata": {},
   "outputs": [
    {
     "name": "stdout",
     "output_type": "stream",
     "text": [
      "[(12985, 'Michael', 'Scott'), (12986, 'Dwight', 'Schrute')]\n"
     ]
    }
   ],
   "source": [
    "#check data in table\n",
    "c.execute(\"SELECT * FROM employees;\")\n",
    "print(c.fetchall())"
   ]
  },
  {
   "cell_type": "markdown",
   "id": "c07b6b01",
   "metadata": {},
   "source": [
    "## Option 2 - insert many rows"
   ]
  },
  {
   "cell_type": "code",
   "execution_count": 11,
   "id": "bc6b64e4",
   "metadata": {},
   "outputs": [],
   "source": [
    "new_employees = [(12987, 'Jim', 'Halpert'),\n",
    " (12988, 'Pam', 'Beesly'),\n",
    " (12989, 'Andy', 'Bernard'),\n",
    " (12990, 'Kevin', 'Malone'),\n",
    " (12991, 'Toby', 'Flenderson'),\n",
    " (12992, 'Angela', 'Martin'),\n",
    " (12993, 'Stanley', 'Hudson')]"
   ]
  },
  {
   "cell_type": "code",
   "execution_count": 12,
   "id": "4d70cf54",
   "metadata": {},
   "outputs": [
    {
     "data": {
      "text/plain": [
       "<sqlite3.Cursor at 0x7fbe600b6e30>"
      ]
     },
     "execution_count": 12,
     "metadata": {},
     "output_type": "execute_result"
    }
   ],
   "source": [
    "c.executemany('INSERT INTO employees VALUES (?, ?, ?)', new_employees)"
   ]
  },
  {
   "cell_type": "code",
   "execution_count": 13,
   "id": "2e9c6602",
   "metadata": {},
   "outputs": [
    {
     "name": "stdout",
     "output_type": "stream",
     "text": [
      "[(12985, 'Michael', 'Scott'), (12986, 'Dwight', 'Schrute'), (12987, 'Jim', 'Halpert'), (12988, 'Pam', 'Beesly'), (12989, 'Andy', 'Bernard'), (12990, 'Kevin', 'Malone'), (12991, 'Toby', 'Flenderson'), (12992, 'Angela', 'Martin'), (12993, 'Stanley', 'Hudson')]\n"
     ]
    }
   ],
   "source": [
    "#check data in table\n",
    "c.execute(\"SELECT * FROM employees;\")\n",
    "print(c.fetchall())"
   ]
  },
  {
   "cell_type": "code",
   "execution_count": 16,
   "id": "61c583e6",
   "metadata": {},
   "outputs": [],
   "source": [
    "#Commit changes\n",
    "conn.commit()"
   ]
  },
  {
   "cell_type": "markdown",
   "id": "638ef7b1",
   "metadata": {},
   "source": [
    "# Connect SQLite via Pandas"
   ]
  },
  {
   "cell_type": "code",
   "execution_count": 17,
   "id": "b0f3c0a9",
   "metadata": {},
   "outputs": [],
   "source": [
    "#Establish connection\n",
    "con = db.connect('my_database.db')"
   ]
  },
  {
   "cell_type": "code",
   "execution_count": 18,
   "id": "1fae88cf",
   "metadata": {},
   "outputs": [
    {
     "data": {
      "text/html": [
       "<div>\n",
       "<style scoped>\n",
       "    .dataframe tbody tr th:only-of-type {\n",
       "        vertical-align: middle;\n",
       "    }\n",
       "\n",
       "    .dataframe tbody tr th {\n",
       "        vertical-align: top;\n",
       "    }\n",
       "\n",
       "    .dataframe thead th {\n",
       "        text-align: right;\n",
       "    }\n",
       "</style>\n",
       "<table border=\"1\" class=\"dataframe\">\n",
       "  <thead>\n",
       "    <tr style=\"text-align: right;\">\n",
       "      <th></th>\n",
       "      <th>empid</th>\n",
       "      <th>firstname</th>\n",
       "      <th>lastname</th>\n",
       "    </tr>\n",
       "  </thead>\n",
       "  <tbody>\n",
       "    <tr>\n",
       "      <th>0</th>\n",
       "      <td>12985</td>\n",
       "      <td>Michael</td>\n",
       "      <td>Scott</td>\n",
       "    </tr>\n",
       "    <tr>\n",
       "      <th>1</th>\n",
       "      <td>12986</td>\n",
       "      <td>Dwight</td>\n",
       "      <td>Schrute</td>\n",
       "    </tr>\n",
       "    <tr>\n",
       "      <th>2</th>\n",
       "      <td>12987</td>\n",
       "      <td>Jim</td>\n",
       "      <td>Halpert</td>\n",
       "    </tr>\n",
       "    <tr>\n",
       "      <th>3</th>\n",
       "      <td>12988</td>\n",
       "      <td>Pam</td>\n",
       "      <td>Beesly</td>\n",
       "    </tr>\n",
       "    <tr>\n",
       "      <th>4</th>\n",
       "      <td>12989</td>\n",
       "      <td>Andy</td>\n",
       "      <td>Bernard</td>\n",
       "    </tr>\n",
       "    <tr>\n",
       "      <th>5</th>\n",
       "      <td>12990</td>\n",
       "      <td>Kevin</td>\n",
       "      <td>Malone</td>\n",
       "    </tr>\n",
       "    <tr>\n",
       "      <th>6</th>\n",
       "      <td>12991</td>\n",
       "      <td>Toby</td>\n",
       "      <td>Flenderson</td>\n",
       "    </tr>\n",
       "    <tr>\n",
       "      <th>7</th>\n",
       "      <td>12992</td>\n",
       "      <td>Angela</td>\n",
       "      <td>Martin</td>\n",
       "    </tr>\n",
       "    <tr>\n",
       "      <th>8</th>\n",
       "      <td>12993</td>\n",
       "      <td>Stanley</td>\n",
       "      <td>Hudson</td>\n",
       "    </tr>\n",
       "  </tbody>\n",
       "</table>\n",
       "</div>"
      ],
      "text/plain": [
       "   empid firstname    lastname\n",
       "0  12985   Michael       Scott\n",
       "1  12986    Dwight     Schrute\n",
       "2  12987       Jim     Halpert\n",
       "3  12988       Pam      Beesly\n",
       "4  12989      Andy     Bernard\n",
       "5  12990     Kevin      Malone\n",
       "6  12991      Toby  Flenderson\n",
       "7  12992    Angela      Martin\n",
       "8  12993   Stanley      Hudson"
      ]
     },
     "execution_count": 18,
     "metadata": {},
     "output_type": "execute_result"
    }
   ],
   "source": [
    "#Perform SQL query and return pandas data frame\n",
    "df_employees = pd.read_sql_query ('select * from employees', con)\n",
    "df_employees"
   ]
  },
  {
   "cell_type": "code",
   "execution_count": null,
   "id": "18a2eb15",
   "metadata": {},
   "outputs": [],
   "source": [
    "#remove Stanley from employee table\n",
    "df_new = df_employees[:-1]\n",
    "df_new"
   ]
  },
  {
   "cell_type": "code",
   "execution_count": 21,
   "id": "7dd712d5",
   "metadata": {},
   "outputs": [],
   "source": [
    "#Write the new dataframe to SQLite and replace employee table\n",
    "df_new.to_sql(\"employees\", con, if_exists=\"replace\")"
   ]
  },
  {
   "cell_type": "code",
   "execution_count": 22,
   "id": "eafda01d",
   "metadata": {},
   "outputs": [
    {
     "data": {
      "text/html": [
       "<div>\n",
       "<style scoped>\n",
       "    .dataframe tbody tr th:only-of-type {\n",
       "        vertical-align: middle;\n",
       "    }\n",
       "\n",
       "    .dataframe tbody tr th {\n",
       "        vertical-align: top;\n",
       "    }\n",
       "\n",
       "    .dataframe thead th {\n",
       "        text-align: right;\n",
       "    }\n",
       "</style>\n",
       "<table border=\"1\" class=\"dataframe\">\n",
       "  <thead>\n",
       "    <tr style=\"text-align: right;\">\n",
       "      <th></th>\n",
       "      <th>index</th>\n",
       "      <th>empid</th>\n",
       "      <th>firstname</th>\n",
       "      <th>lastname</th>\n",
       "    </tr>\n",
       "  </thead>\n",
       "  <tbody>\n",
       "    <tr>\n",
       "      <th>0</th>\n",
       "      <td>0</td>\n",
       "      <td>12985</td>\n",
       "      <td>Michael</td>\n",
       "      <td>Scott</td>\n",
       "    </tr>\n",
       "    <tr>\n",
       "      <th>1</th>\n",
       "      <td>1</td>\n",
       "      <td>12986</td>\n",
       "      <td>Dwight</td>\n",
       "      <td>Schrute</td>\n",
       "    </tr>\n",
       "    <tr>\n",
       "      <th>2</th>\n",
       "      <td>2</td>\n",
       "      <td>12987</td>\n",
       "      <td>Jim</td>\n",
       "      <td>Halpert</td>\n",
       "    </tr>\n",
       "    <tr>\n",
       "      <th>3</th>\n",
       "      <td>3</td>\n",
       "      <td>12988</td>\n",
       "      <td>Pam</td>\n",
       "      <td>Beesly</td>\n",
       "    </tr>\n",
       "    <tr>\n",
       "      <th>4</th>\n",
       "      <td>4</td>\n",
       "      <td>12989</td>\n",
       "      <td>Andy</td>\n",
       "      <td>Bernard</td>\n",
       "    </tr>\n",
       "    <tr>\n",
       "      <th>5</th>\n",
       "      <td>5</td>\n",
       "      <td>12990</td>\n",
       "      <td>Kevin</td>\n",
       "      <td>Malone</td>\n",
       "    </tr>\n",
       "    <tr>\n",
       "      <th>6</th>\n",
       "      <td>6</td>\n",
       "      <td>12991</td>\n",
       "      <td>Toby</td>\n",
       "      <td>Flenderson</td>\n",
       "    </tr>\n",
       "    <tr>\n",
       "      <th>7</th>\n",
       "      <td>7</td>\n",
       "      <td>12992</td>\n",
       "      <td>Angela</td>\n",
       "      <td>Martin</td>\n",
       "    </tr>\n",
       "  </tbody>\n",
       "</table>\n",
       "</div>"
      ],
      "text/plain": [
       "   index  empid firstname    lastname\n",
       "0      0  12985   Michael       Scott\n",
       "1      1  12986    Dwight     Schrute\n",
       "2      2  12987       Jim     Halpert\n",
       "3      3  12988       Pam      Beesly\n",
       "4      4  12989      Andy     Bernard\n",
       "5      5  12990     Kevin      Malone\n",
       "6      6  12991      Toby  Flenderson\n",
       "7      7  12992    Angela      Martin"
      ]
     },
     "execution_count": 22,
     "metadata": {},
     "output_type": "execute_result"
    }
   ],
   "source": [
    "#Check table in SQLite\n",
    "pd.read_sql_query ('select * from employees', con)"
   ]
  },
  {
   "cell_type": "markdown",
   "id": "dc70365c",
   "metadata": {},
   "source": [
    "# Close connection\n"
   ]
  },
  {
   "cell_type": "code",
   "execution_count": null,
   "id": "bf8091e7",
   "metadata": {},
   "outputs": [],
   "source": [
    "con.close()"
   ]
  },
  {
   "cell_type": "markdown",
   "id": "0614fde9",
   "metadata": {},
   "source": [
    "### Extra tips\n",
    "### read csv inside sqlite database"
   ]
  },
  {
   "cell_type": "code",
   "execution_count": null,
   "id": "3267fc45",
   "metadata": {},
   "outputs": [],
   "source": [
    "df=pd.read_csv(\"csvfile_path\")\n",
    "df.to_sql(table_name,conn, if_exists='append', index=False)"
   ]
  }
 ],
 "metadata": {
  "kernelspec": {
   "display_name": "Python 3",
   "language": "python",
   "name": "python3"
  },
  "language_info": {
   "codemirror_mode": {
    "name": "ipython",
    "version": 3
   },
   "file_extension": ".py",
   "mimetype": "text/x-python",
   "name": "python",
   "nbconvert_exporter": "python",
   "pygments_lexer": "ipython3",
   "version": "3.7.8"
  }
 },
 "nbformat": 4,
 "nbformat_minor": 5
}
